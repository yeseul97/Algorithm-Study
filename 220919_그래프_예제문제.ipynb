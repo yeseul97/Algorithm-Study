{
 "cells": [
  {
   "cell_type": "raw",
   "id": "9d5683be",
   "metadata": {},
   "source": [
    "https://sexy-developer.tistory.com/55"
   ]
  },
  {
   "cell_type": "markdown",
   "id": "48dfb134",
   "metadata": {},
   "source": [
    "# DFS (너비 우선 탐색)\n",
    "### BFS와 마찬가지로, DFS 또한 그래프 순회 알고리즘이다. \n",
    "### 즉, 하나의 그래프에서 갈 수 있는 모든 노드들을 차례대로 순회하는 알고리즘이라는 말이다."
   ]
  },
  {
   "cell_type": "markdown",
   "id": "8d566e45",
   "metadata": {},
   "source": [
    "### 1. 시작 정점 1을 stack에 넣는다.\n",
    "### 2. stack에 원소가 있는 동안, 아래의 과정을 반복한다\n",
    "    1. stack에 있는 원소를 pop해서 temp라는 변수에 저장\n",
    "    (stack은 LIFO 구조이기 때문에, 가장 최근에 스택에 넣은 원소가 나오게 된다.)\n",
    "    2. visited[temp]를 True로 만들어줌으로써, node를 방문했다고 표시한다.\n",
    "    3. temp에서 갈 수 있는 노드들 중 아직 방문하지 않은 노드들을 stack에 집어넣는다. "
   ]
  },
  {
   "cell_type": "code",
   "execution_count": 1,
   "id": "a307093c",
   "metadata": {},
   "outputs": [],
   "source": [
    "### 예제1: 주어진 그래프를 DFS로 순회하기"
   ]
  },
  {
   "cell_type": "code",
   "execution_count": 10,
   "id": "c5209d8e",
   "metadata": {},
   "outputs": [],
   "source": [
    "#### 답안1: 반복문을 활용한 DFS\n",
    "def iterative_dfs_desc(graph, input_start):\n",
    "    visited = [0] * len(graph) # 열 개수\n",
    "    answer = []\n",
    "    stack = [input_start]\n",
    "    \n",
    "    while stack:\n",
    "        print('\\nstack:', stack)\n",
    "        temp = stack.pop()\n",
    "        print('pop된 노드:',temp)\n",
    "        visited[temp] = 1\n",
    "        answer.append(temp)\n",
    "        \n",
    "        for i in range(len(graph[temp])):\n",
    "            if graph[temp][i] == 1 and visited[i] == 0 and temp != i:\n",
    "                stack.append(i)\n",
    "    return answer"
   ]
  },
  {
   "cell_type": "code",
   "execution_count": 11,
   "id": "55895af6",
   "metadata": {},
   "outputs": [],
   "source": [
    "graph = [[1,1,1,1,0,0],\n",
    "        [1,1,0,0,0,0],\n",
    "        [1,0,1,0,0,1],\n",
    "        [1,0,0,1,1,0],\n",
    "        [0,0,0,1,1,0],\n",
    "        [0,0,1,0,0,1]]\n",
    "start = 0"
   ]
  },
  {
   "cell_type": "code",
   "execution_count": 12,
   "id": "a8fce562",
   "metadata": {},
   "outputs": [
    {
     "name": "stdout",
     "output_type": "stream",
     "text": [
      "\n",
      "stack: [0]\n",
      "pop된 노드: 0\n",
      "\n",
      "stack: [1, 2, 3]\n",
      "pop된 노드: 3\n",
      "\n",
      "stack: [1, 2, 4]\n",
      "pop된 노드: 4\n",
      "\n",
      "stack: [1, 2]\n",
      "pop된 노드: 2\n",
      "\n",
      "stack: [1, 5]\n",
      "pop된 노드: 5\n",
      "\n",
      "stack: [1]\n",
      "pop된 노드: 1\n"
     ]
    },
    {
     "data": {
      "text/plain": [
       "[0, 3, 4, 2, 5, 1]"
      ]
     },
     "execution_count": 12,
     "metadata": {},
     "output_type": "execute_result"
    }
   ],
   "source": [
    "iterative_dfs_desc(graph, start)"
   ]
  },
  {
   "cell_type": "code",
   "execution_count": null,
   "id": "e3d09024",
   "metadata": {},
   "outputs": [],
   "source": []
  }
 ],
 "metadata": {
  "kernelspec": {
   "display_name": "sps2021",
   "language": "python",
   "name": "tf-gpu2"
  },
  "language_info": {
   "codemirror_mode": {
    "name": "ipython",
    "version": 3
   },
   "file_extension": ".py",
   "mimetype": "text/x-python",
   "name": "python",
   "nbconvert_exporter": "python",
   "pygments_lexer": "ipython3",
   "version": "3.8.13"
  }
 },
 "nbformat": 4,
 "nbformat_minor": 5
}
