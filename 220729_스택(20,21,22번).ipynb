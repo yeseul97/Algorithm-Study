{
 "cells": [
  {
   "cell_type": "markdown",
   "id": "6637f889",
   "metadata": {},
   "source": [
    "### 스택\n",
    ": 다음과 같은 2가지 주요 연산을 지원하는 요소의 컬렉션으로 사용되는 추상 자료형\n",
    "    \n",
    "    - push(): 요소를 컬렉션에 추가한다.\n",
    "    - pop(): 아직 제거되지 않은 가장 최근에 삽입된 요소를 제거한다. "
   ]
  },
  {
   "cell_type": "code",
   "execution_count": 5,
   "id": "972cb828",
   "metadata": {},
   "outputs": [
    {
     "name": "stdout",
     "output_type": "stream",
     "text": [
      "5\n",
      "4\n",
      "3\n",
      "2\n",
      "1\n"
     ]
    }
   ],
   "source": [
    "# 연결 리스트를 이용한 스택 ADT 구현\n",
    "class Node:\n",
    "    def __init__(self,item, next):\n",
    "        self.item = item\n",
    "        self.next = next\n",
    "\n",
    "class Stack:\n",
    "    def __init__(self):\n",
    "        self.last = None\n",
    "    \n",
    "    def push(self,item):\n",
    "        self.last = Node(item, self.last)\n",
    "        \n",
    "    def pop(self):\n",
    "        item = self.last.item\n",
    "        self.last = self.last.next\n",
    "        return item\n",
    "\n",
    "\n",
    "stack = Stack()\n",
    "stack.push(1)\n",
    "stack.push(2)\n",
    "stack.push(3)\n",
    "stack.push(4)\n",
    "stack.push(5)\n",
    "\n",
    "# 마지막에 넣은 것부터 나옴\n",
    "for _ in range(5):\n",
    "    print(stack.pop())"
   ]
  },
  {
   "cell_type": "code",
   "execution_count": 6,
   "id": "a53b753b",
   "metadata": {},
   "outputs": [],
   "source": [
    "### 20. 유효한 괄호"
   ]
  },
  {
   "cell_type": "code",
   "execution_count": 15,
   "id": "e5002d84",
   "metadata": {},
   "outputs": [],
   "source": [
    "def isValid(s):\n",
    "    stack = []\n",
    "    # 순서 반대로 해줘야 함. - pop()은 뒤에서부터, for문은 앞에서부터 \n",
    "    table = {\n",
    "        ')':'(',\n",
    "        '}':'{',\n",
    "        ']':'[',\n",
    "    }\n",
    "    \n",
    "    # 스택 이용 예외 처리 및 일치 여부 판별\n",
    "    for char in s:\n",
    "        if char not in table: # key가 아닐경우 \n",
    "            stack.append(char)\n",
    "            print(stack)\n",
    "        elif not stack or table[char] != stack.pop():\n",
    "            return False\n",
    "    return len(stack) == 0 # 서로 다 짝이 맞았으면 모두 pop됨\n",
    "            "
   ]
  },
  {
   "cell_type": "code",
   "execution_count": 17,
   "id": "94d71ead",
   "metadata": {},
   "outputs": [],
   "source": [
    "### 21. 중복 문자 제거"
   ]
  },
  {
   "cell_type": "code",
   "execution_count": 25,
   "id": "9291c288",
   "metadata": {},
   "outputs": [],
   "source": [
    "def RemoveDuplicate(ss):\n",
    "    aa = ''\n",
    "    for i in sorted(set(ss)):\n",
    "        aa+=i\n",
    "    return aa"
   ]
  },
  {
   "cell_type": "code",
   "execution_count": 27,
   "id": "511a6808",
   "metadata": {},
   "outputs": [],
   "source": [
    "### 22. 일일 온도"
   ]
  },
  {
   "cell_type": "code",
   "execution_count": 43,
   "id": "ce1591e6",
   "metadata": {},
   "outputs": [
    {
     "name": "stdout",
     "output_type": "stream",
     "text": [
      "[1, 1, 4, 2, 1, 1]\n"
     ]
    }
   ],
   "source": [
    "T = [73,74,75,71,69,72,76,73]\n",
    "result = []\n",
    "for i,value in enumerate(T):\n",
    "    aa = 0\n",
    "    for j in T[i:]:\n",
    "        if j>value:\n",
    "            result.append(aa)\n",
    "            break\n",
    "        else:\n",
    "            aa+=1\n",
    "print(result)"
   ]
  },
  {
   "cell_type": "code",
   "execution_count": 45,
   "id": "5ea7506f",
   "metadata": {},
   "outputs": [],
   "source": [
    "def dailyTemperatures(T):\n",
    "    answer = [0] * len(T)\n",
    "    stack = []\n",
    "    for i, cur in enumerate(T):\n",
    "        # 현재 온도가 스택 값보다 높다면 정답 처리\n",
    "        while stack and cur > T[stack[-1]]:\n",
    "            last = stack.pop()\n",
    "            answer[last] = i - last\n",
    "        stack.append(i)\n",
    "        \n",
    "    return answer"
   ]
  },
  {
   "cell_type": "code",
   "execution_count": 46,
   "id": "9c0f69e6",
   "metadata": {},
   "outputs": [
    {
     "data": {
      "text/plain": [
       "[1, 1, 4, 2, 1, 1, 0, 0]"
      ]
     },
     "execution_count": 46,
     "metadata": {},
     "output_type": "execute_result"
    }
   ],
   "source": [
    "dailyTemperatures(T)"
   ]
  },
  {
   "cell_type": "code",
   "execution_count": null,
   "id": "9dfb2cca",
   "metadata": {},
   "outputs": [],
   "source": []
  }
 ],
 "metadata": {
  "kernelspec": {
   "display_name": "sps2021",
   "language": "python",
   "name": "tf-gpu2"
  },
  "language_info": {
   "codemirror_mode": {
    "name": "ipython",
    "version": 3
   },
   "file_extension": ".py",
   "mimetype": "text/x-python",
   "name": "python",
   "nbconvert_exporter": "python",
   "pygments_lexer": "ipython3",
   "version": "3.8.13"
  }
 },
 "nbformat": 4,
 "nbformat_minor": 5
}
