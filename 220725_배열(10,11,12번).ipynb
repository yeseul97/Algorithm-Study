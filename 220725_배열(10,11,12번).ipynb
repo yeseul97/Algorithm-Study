{
 "cells": [
  {
   "cell_type": "markdown",
   "id": "faf58f05",
   "metadata": {},
   "source": [
    "# 7장. 배열"
   ]
  },
  {
   "cell_type": "markdown",
   "id": "c6f89d7f",
   "metadata": {},
   "source": [
    "#### : 배열은 값 또는 변수 엘리먼트의 집합으로 구성된 구조로, 하나 이상의 인덱스 또는 키로 식별된다. "
   ]
  },
  {
   "cell_type": "code",
   "execution_count": 1,
   "id": "c9ef3938",
   "metadata": {},
   "outputs": [],
   "source": [
    "### 10. 배열 파티션 1"
   ]
  },
  {
   "cell_type": "code",
   "execution_count": 2,
   "id": "c158e993",
   "metadata": {},
   "outputs": [
    {
     "name": "stdout",
     "output_type": "stream",
     "text": [
      "4\n"
     ]
    }
   ],
   "source": [
    "a = [1,4,3,2]\n",
    "a.sort()\n",
    "sum=0\n",
    "for i in range(0,len(a),2):\n",
    "    sum+=a[i]\n",
    "print(sum)"
   ]
  },
  {
   "cell_type": "code",
   "execution_count": 3,
   "id": "34f16d19",
   "metadata": {},
   "outputs": [],
   "source": [
    "#1. 오름차순 풀이\n",
    "def arrayPairSum(nums):\n",
    "    sum=0\n",
    "    pair=[]\n",
    "    nums.sort()\n",
    "    for n in nums:\n",
    "        # 앞에서부터 오름차순으로 페어를 만들어서 합 계산\n",
    "        pair.append(n)\n",
    "        if len(pair) == 2:\n",
    "            sum += min(pair)\n",
    "            pair = []\n",
    "            \n",
    "    return sum"
   ]
  },
  {
   "cell_type": "code",
   "execution_count": 4,
   "id": "4cad1906",
   "metadata": {},
   "outputs": [],
   "source": [
    "#2. 짝수 번째 값 계산 : 페어에 대해 일일이 min을 구하지 않아도 되어 불필요한 리스트 변수 생략 가능\n",
    "def arrayPairSum(nums):\n",
    "    sum=0\n",
    "    nums.sort()\n",
    "    for i,n in enumerate(nums):\n",
    "        # 짝수 번째 값의 합 계산\n",
    "        if i % 2 == 0:\n",
    "            sum += n\n",
    "            \n",
    "    return sum"
   ]
  },
  {
   "cell_type": "code",
   "execution_count": 5,
   "id": "1df185ec",
   "metadata": {},
   "outputs": [],
   "source": [
    "#3. 파이썬다운 방식: 가장 빠른 속도 - 내 풀이와 비슷하지만 한 줄에 다 적음\n",
    "def arrayPairSum(nums):\n",
    "    return sum(sorted(nums)[::2])"
   ]
  },
  {
   "cell_type": "code",
   "execution_count": null,
   "id": "d0e769d1",
   "metadata": {},
   "outputs": [],
   "source": []
  },
  {
   "cell_type": "code",
   "execution_count": null,
   "id": "c4514a87",
   "metadata": {},
   "outputs": [],
   "source": []
  },
  {
   "cell_type": "code",
   "execution_count": 6,
   "id": "935a39a3",
   "metadata": {},
   "outputs": [],
   "source": [
    "### 11. 자신을 제외한 배열의 곱"
   ]
  },
  {
   "cell_type": "code",
   "execution_count": 7,
   "id": "ad1214f6",
   "metadata": {},
   "outputs": [
    {
     "name": "stdout",
     "output_type": "stream",
     "text": [
      "[24, 12, 8, 6]\n"
     ]
    }
   ],
   "source": [
    "out=[]\n",
    "a = [1,2,3,4]\n",
    "for i in range(len(a)):\n",
    "    a = [1,2,3,4]\n",
    "    del a[i] # 하나 지우고\n",
    "    value=1\n",
    "    for j in a: # 곱하기\n",
    "        value*=j\n",
    "    out.append(value)\n",
    "print(out)"
   ]
  },
  {
   "cell_type": "code",
   "execution_count": null,
   "id": "b91acd7b",
   "metadata": {},
   "outputs": [],
   "source": []
  },
  {
   "cell_type": "code",
   "execution_count": null,
   "id": "f062ee3b",
   "metadata": {},
   "outputs": [],
   "source": []
  },
  {
   "cell_type": "code",
   "execution_count": 8,
   "id": "e24195e6",
   "metadata": {},
   "outputs": [],
   "source": [
    "### 12. 주식을 사고팔기 가장 좋은 시점"
   ]
  },
  {
   "cell_type": "code",
   "execution_count": 9,
   "id": "ab9b54fd",
   "metadata": {},
   "outputs": [],
   "source": [
    "def maxProfit(prices):\n",
    "    max_price=0\n",
    "    for i, price in enumerate(prices):\n",
    "        for j in range(i, len(prices)):\n",
    "            # 최소, 최대 한번에 구하지 않고 한번에 최대 max_price 구하기\n",
    "            max_price = max(prices[j] - price, max_price) \n",
    "    return max_price"
   ]
  },
  {
   "cell_type": "code",
   "execution_count": 10,
   "id": "88ac868c",
   "metadata": {},
   "outputs": [],
   "source": [
    "#2.저점과 현재 값과의 차이 계산\n",
    "import sys  # 파이썬 인터프리터가 제공하는 변수와 함수를 직접 제어할 수 있게 해주는 모듈 \n",
    "\n",
    "def maxProfit(prices):\n",
    "    profit=0\n",
    "    min_price = sys.maxsize\n",
    "    \n",
    "    # 최솟값과 최댓값을 계속 갱신\n",
    "    for price in prices:\n",
    "        min_price = min(min_price,price) # 지금까지 중에 가장 작은 수 \n",
    "        profit = max(profit, price-min_price) # 지금까지 중에 가장 큰 profit과 지금의 profit 비교\n",
    "    \n",
    "    return profit"
   ]
  },
  {
   "cell_type": "code",
   "execution_count": 11,
   "id": "567b0dd8",
   "metadata": {},
   "outputs": [
    {
     "data": {
      "text/plain": [
       "5"
      ]
     },
     "execution_count": 11,
     "metadata": {},
     "output_type": "execute_result"
    }
   ],
   "source": [
    "maxProfit([7,1,5,3,6,4])"
   ]
  },
  {
   "cell_type": "code",
   "execution_count": null,
   "id": "cb468911",
   "metadata": {},
   "outputs": [],
   "source": []
  }
 ],
 "metadata": {
  "kernelspec": {
   "display_name": "sps2021",
   "language": "python",
   "name": "tf-gpu2"
  },
  "language_info": {
   "codemirror_mode": {
    "name": "ipython",
    "version": 3
   },
   "file_extension": ".py",
   "mimetype": "text/x-python",
   "name": "python",
   "nbconvert_exporter": "python",
   "pygments_lexer": "ipython3",
   "version": "3.8.13"
  }
 },
 "nbformat": 4,
 "nbformat_minor": 5
}
